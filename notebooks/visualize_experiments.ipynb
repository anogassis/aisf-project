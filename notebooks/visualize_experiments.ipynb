{
 "cells": [
  {
   "cell_type": "code",
   "execution_count": 1,
   "metadata": {},
   "outputs": [],
   "source": [
    "import warnings\n",
    "from collections import defaultdict\n",
    "import matplotlib.pyplot as plt\n",
    "import numpy as np\n",
    "import pandas as pd\n",
    "from tms.utils.utils import load_results\n",
    "from tms.training.experiments import run_experiments\n",
    "from tms.llc import estimate_llc, get_llc_data\n",
    "import os"
   ]
  },
  {
   "cell_type": "code",
   "execution_count": 2,
   "metadata": {},
   "outputs": [],
   "source": [
    "version = \"1.5.0\"\n",
    "data_path = \"../data\"\n",
    "results = load_results(data_path, version)"
   ]
  },
  {
   "cell_type": "code",
   "execution_count": 3,
   "metadata": {},
   "outputs": [
    {
     "data": {
      "text/plain": [
       "{'m': 6,\n",
       " 'n': 2,\n",
       " 'num_samples': 100,\n",
       " 'batch_size': 1024,\n",
       " 'num_epochs': 20000,\n",
       " 'sparsity': 0.0,\n",
       " 'lr': 0.005,\n",
       " 'momentum': 0.9,\n",
       " 'weight_decay': 0.0,\n",
       " 'init_kgon': 6,\n",
       " 'no_bias': False,\n",
       " 'init_zerobias': False,\n",
       " 'prior_std': 0,\n",
       " 'seed': 0,\n",
       " 'log_ivl': [1,\n",
       "  2,\n",
       "  3,\n",
       "  4,\n",
       "  5,\n",
       "  6,\n",
       "  7,\n",
       "  9,\n",
       "  11,\n",
       "  13,\n",
       "  16,\n",
       "  20,\n",
       "  25,\n",
       "  31,\n",
       "  38,\n",
       "  46,\n",
       "  56,\n",
       "  69,\n",
       "  85,\n",
       "  104,\n",
       "  127,\n",
       "  156,\n",
       "  191,\n",
       "  234,\n",
       "  286,\n",
       "  351,\n",
       "  429,\n",
       "  526,\n",
       "  643,\n",
       "  788,\n",
       "  964,\n",
       "  1180,\n",
       "  1445,\n",
       "  1768,\n",
       "  2165,\n",
       "  2650,\n",
       "  3243,\n",
       "  3970,\n",
       "  4859,\n",
       "  5948,\n",
       "  7280,\n",
       "  8910,\n",
       "  10906,\n",
       "  13349,\n",
       "  16340,\n",
       "  20000]}"
      ]
     },
     "execution_count": 3,
     "metadata": {},
     "output_type": "execute_result"
    }
   ],
   "source": [
    "results[0]['parameters']"
   ]
  },
  {
   "cell_type": "code",
   "execution_count": 4,
   "metadata": {},
   "outputs": [
    {
     "name": "stdout",
     "output_type": "stream",
     "text": [
      "bias: False, num_features: 6, num_hidden_units: 2\n"
     ]
    },
    {
     "name": "stderr",
     "output_type": "stream",
     "text": [
      "  0%|          | 0/500 [00:00<?, ?it/s]"
     ]
    },
    {
     "name": "stdout",
     "output_type": "stream",
     "text": [
      "Running llc estimation for run 0\n",
      "Running llc estimation for snapshot -1\n"
     ]
    },
    {
     "name": "stderr",
     "output_type": "stream",
     "text": [
      "Sweeping hyperparameters:   0%|          | 0/1 [00:00<?, ?it/s]\n",
      "  0%|          | 0/500 [00:00<?, ?it/s]"
     ]
    },
    {
     "name": "stderr",
     "output_type": "stream",
     "text": [
      "\n"
     ]
    },
    {
     "ename": "TypeError",
     "evalue": "'NoneType' object is not callable",
     "output_type": "error",
     "traceback": [
      "\u001b[0;31m---------------------------------------------------------------------------\u001b[0m",
      "\u001b[0;31mTypeError\u001b[0m                                 Traceback (most recent call last)",
      "Cell \u001b[0;32mIn[4], line 1\u001b[0m\n\u001b[0;32m----> 1\u001b[0m llc_estimates \u001b[38;5;241m=\u001b[39m \u001b[43mestimate_llc\u001b[49m\u001b[43m(\u001b[49m\u001b[43mresults\u001b[49m\u001b[43m,\u001b[49m\u001b[43m \u001b[49m\u001b[43mversion\u001b[49m\u001b[43m,\u001b[49m\u001b[43m \u001b[49m\u001b[43msnapshot_indices\u001b[49m\u001b[38;5;241;43m=\u001b[39;49m\u001b[43m[\u001b[49m\u001b[38;5;241;43m-\u001b[39;49m\u001b[38;5;241;43m1\u001b[39;49m\u001b[43m]\u001b[49m\u001b[43m)\u001b[49m\n",
      "File \u001b[0;32m~/repos/aisf-project/tms/llc.py:123\u001b[0m, in \u001b[0;36mestimate_llc\u001b[0;34m(results, version, data_directory, hyperparam_combos, snapshot_indices, num_samples_test, num_chains, num_draws)\u001b[0m\n\u001b[1;32m    119\u001b[0m dataset_double \u001b[38;5;241m=\u001b[39m TensorDataset(dataset\u001b[38;5;241m.\u001b[39mdata, dataset\u001b[38;5;241m.\u001b[39mdata)\n\u001b[1;32m    121\u001b[0m \u001b[38;5;28mprint\u001b[39m(\u001b[38;5;124mf\u001b[39m\u001b[38;5;124m\"\u001b[39m\u001b[38;5;124mRunning llc estimation for snapshot \u001b[39m\u001b[38;5;132;01m{\u001b[39;00msnapshot_index\u001b[38;5;132;01m}\u001b[39;00m\u001b[38;5;124m\"\u001b[39m)\n\u001b[0;32m--> 123\u001b[0m llc_estimate \u001b[38;5;241m=\u001b[39m \u001b[43msweep_lambdahat_estimation_hyperparams\u001b[49m\u001b[43m(\u001b[49m\n\u001b[1;32m    124\u001b[0m \u001b[43m    \u001b[49m\u001b[43mmodel\u001b[49m\u001b[43m,\u001b[49m\n\u001b[1;32m    125\u001b[0m \u001b[43m    \u001b[49m\u001b[43mdataset_double\u001b[49m\u001b[43m,\u001b[49m\n\u001b[1;32m    126\u001b[0m \u001b[43m    \u001b[49m\u001b[43mresults\u001b[49m\u001b[43m[\u001b[49m\u001b[43mindex\u001b[49m\u001b[43m]\u001b[49m\u001b[43m[\u001b[49m\u001b[38;5;124;43m\"\u001b[39;49m\u001b[38;5;124;43mweights\u001b[39;49m\u001b[38;5;124;43m\"\u001b[39;49m\u001b[43m]\u001b[49m\u001b[43m,\u001b[49m\n\u001b[1;32m    127\u001b[0m \u001b[43m    \u001b[49m\u001b[43msnapshot_index\u001b[49m\u001b[38;5;241;43m=\u001b[39;49m\u001b[43msnapshot_index\u001b[49m\u001b[43m,\u001b[49m\n\u001b[1;32m    128\u001b[0m \u001b[43m    \u001b[49m\u001b[43mnum_chains\u001b[49m\u001b[38;5;241;43m=\u001b[39;49m\u001b[43mnum_chains\u001b[49m\u001b[43m,\u001b[49m\n\u001b[1;32m    129\u001b[0m \u001b[43m    \u001b[49m\u001b[43mnum_draws\u001b[49m\u001b[38;5;241;43m=\u001b[39;49m\u001b[43mnum_draws\u001b[49m\u001b[43m,\u001b[49m\n\u001b[1;32m    130\u001b[0m \u001b[43m    \u001b[49m\u001b[43mhyperparam_combos\u001b[49m\u001b[38;5;241;43m=\u001b[39;49m\u001b[43mhyperparam_combos\u001b[49m\u001b[43m,\u001b[49m\n\u001b[1;32m    131\u001b[0m \u001b[43m\u001b[49m\u001b[43m)\u001b[49m\n\u001b[1;32m    132\u001b[0m \u001b[38;5;66;03m# plot_lambdahat_estimation_hyperparams(llc_estimate)\u001b[39;00m\n\u001b[1;32m    134\u001b[0m llc_estimate\u001b[38;5;241m.\u001b[39mto_csv(file_name)\n",
      "File \u001b[0;32m~/repos/aisf-project/tms/llc.py:50\u001b[0m, in \u001b[0;36msweep_lambdahat_estimation_hyperparams\u001b[0;34m(model, dataset, weights, snapshot_index, device, sgld_kwargs, num_draws, num_chains, hyperparam_combos, num_burnin_steps)\u001b[0m\n\u001b[1;32m     45\u001b[0m loader \u001b[38;5;241m=\u001b[39m DataLoader(dataset, batch_size\u001b[38;5;241m=\u001b[39mbatch_size, shuffle\u001b[38;5;241m=\u001b[39m\u001b[38;5;28;01mTrue\u001b[39;00m)\n\u001b[1;32m     46\u001b[0m model\u001b[38;5;241m.\u001b[39mload_state_dict(\n\u001b[1;32m     47\u001b[0m     {k: torch\u001b[38;5;241m.\u001b[39mTensor(v) \u001b[38;5;28;01mfor\u001b[39;00m k, v \u001b[38;5;129;01min\u001b[39;00m weights[snapshot_index]\u001b[38;5;241m.\u001b[39mitems()}\n\u001b[1;32m     48\u001b[0m )\n\u001b[0;32m---> 50\u001b[0m observation \u001b[38;5;241m=\u001b[39m \u001b[43mestimate_learning_coeff_with_summary\u001b[49m\u001b[43m(\u001b[49m\n\u001b[1;32m     51\u001b[0m \u001b[43m    \u001b[49m\u001b[43mmodel\u001b[49m\u001b[43m,\u001b[49m\n\u001b[1;32m     52\u001b[0m \u001b[43m    \u001b[49m\u001b[43mloader\u001b[49m\u001b[43m,\u001b[49m\n\u001b[1;32m     53\u001b[0m \u001b[43m    \u001b[49m\u001b[43mF\u001b[49m\u001b[38;5;241;43m.\u001b[39;49m\u001b[43mmse_loss\u001b[49m\u001b[43m,\u001b[49m\n\u001b[1;32m     54\u001b[0m \u001b[43m    \u001b[49m\u001b[43mdevice\u001b[49m\u001b[38;5;241;43m=\u001b[39;49m\u001b[43mdevice\u001b[49m\u001b[43m,\u001b[49m\n\u001b[1;32m     55\u001b[0m \u001b[43m    \u001b[49m\u001b[43msampling_method\u001b[49m\u001b[38;5;241;43m=\u001b[39;49m\u001b[43mSGLD\u001b[49m\u001b[43m,\u001b[49m\n\u001b[1;32m     56\u001b[0m \u001b[43m    \u001b[49m\u001b[43moptimizer_kwargs\u001b[49m\u001b[38;5;241;43m=\u001b[39;49m\u001b[43m{\u001b[49m\u001b[38;5;124;43m\"\u001b[39;49m\u001b[38;5;124;43mlr\u001b[39;49m\u001b[38;5;124;43m\"\u001b[39;49m\u001b[43m:\u001b[49m\u001b[43m \u001b[49m\u001b[43mlr\u001b[49m\u001b[43m,\u001b[49m\u001b[43m \u001b[49m\u001b[38;5;241;43m*\u001b[39;49m\u001b[38;5;241;43m*\u001b[39;49m\u001b[43msgld_kwargs\u001b[49m\u001b[43m}\u001b[49m\u001b[43m,\u001b[49m\n\u001b[1;32m     57\u001b[0m \u001b[43m    \u001b[49m\u001b[43mverbose\u001b[49m\u001b[38;5;241;43m=\u001b[39;49m\u001b[38;5;28;43;01mFalse\u001b[39;49;00m\u001b[43m,\u001b[49m\n\u001b[1;32m     58\u001b[0m \u001b[43m    \u001b[49m\u001b[43mnum_draws\u001b[49m\u001b[38;5;241;43m=\u001b[39;49m\u001b[43mnum_draws\u001b[49m\u001b[43m,\u001b[49m\n\u001b[1;32m     59\u001b[0m \u001b[43m    \u001b[49m\u001b[43mnum_chains\u001b[49m\u001b[38;5;241;43m=\u001b[39;49m\u001b[43mnum_chains\u001b[49m\u001b[43m,\u001b[49m\n\u001b[1;32m     60\u001b[0m \u001b[43m    \u001b[49m\u001b[43monline\u001b[49m\u001b[38;5;241;43m=\u001b[39;49m\u001b[38;5;28;43;01mTrue\u001b[39;49;00m\u001b[43m,\u001b[49m\n\u001b[1;32m     61\u001b[0m \u001b[43m    \u001b[49m\u001b[43mnum_burnin_steps\u001b[49m\u001b[38;5;241;43m=\u001b[39;49m\u001b[43mnum_burnin_steps\u001b[49m\u001b[43m,\u001b[49m\n\u001b[1;32m     62\u001b[0m \u001b[43m\u001b[49m\u001b[43m)\u001b[49m\n\u001b[1;32m     64\u001b[0m \u001b[38;5;28;01mfor\u001b[39;00m t_sgld \u001b[38;5;129;01min\u001b[39;00m \u001b[38;5;28mrange\u001b[39m(num_draws):\n\u001b[1;32m     65\u001b[0m     observations\u001b[38;5;241m.\u001b[39mappend(\n\u001b[1;32m     66\u001b[0m         {\n\u001b[1;32m     67\u001b[0m             \u001b[38;5;124m\"\u001b[39m\u001b[38;5;124mllc\u001b[39m\u001b[38;5;124m\"\u001b[39m: observation[\u001b[38;5;124m\"\u001b[39m\u001b[38;5;124mllc/means\u001b[39m\u001b[38;5;124m\"\u001b[39m][t_sgld]\u001b[38;5;241m.\u001b[39mitem(),\n\u001b[0;32m   (...)\u001b[0m\n\u001b[1;32m     75\u001b[0m         }\n\u001b[1;32m     76\u001b[0m     )\n",
      "File \u001b[0;32m~/.cache/pypoetry/virtualenvs/tms-f0_xxJhK-py3.11/lib/python3.11/site-packages/devinterp/slt/sampler.py:299\u001b[0m, in \u001b[0;36mestimate_learning_coeff_with_summary\u001b[0;34m(model, loader, callbacks, evaluate, sampling_method, optimizer_kwargs, num_draws, num_chains, num_burnin_steps, num_steps_bw_draws, init_loss, grad_accum_steps, cores, seed, device, verbose, optimize_over_per_model_param, online)\u001b[0m\n\u001b[1;32m    297\u001b[0m optimizer_kwargs\u001b[38;5;241m.\u001b[39msetdefault(\u001b[38;5;124m\"\u001b[39m\u001b[38;5;124mtemperature\u001b[39m\u001b[38;5;124m\"\u001b[39m, optimal_temperature(loader))\n\u001b[1;32m    298\u001b[0m \u001b[38;5;28;01mif\u001b[39;00m \u001b[38;5;129;01mnot\u001b[39;00m init_loss:\n\u001b[0;32m--> 299\u001b[0m     init_loss \u001b[38;5;241m=\u001b[39m \u001b[43mget_init_loss_multi_batch\u001b[49m\u001b[43m(\u001b[49m\n\u001b[1;32m    300\u001b[0m \u001b[43m        \u001b[49m\u001b[43mloader\u001b[49m\u001b[43m,\u001b[49m\u001b[43m \u001b[49m\u001b[43mnum_chains\u001b[49m\u001b[43m,\u001b[49m\u001b[43m \u001b[49m\u001b[43mmodel\u001b[49m\u001b[43m,\u001b[49m\u001b[43m \u001b[49m\u001b[43mevaluate\u001b[49m\u001b[43m,\u001b[49m\u001b[43m \u001b[49m\u001b[43mdevice\u001b[49m\n\u001b[1;32m    301\u001b[0m \u001b[43m    \u001b[49m\u001b[43m)\u001b[49m\n\u001b[1;32m    302\u001b[0m     \u001b[38;5;66;03m# alternative: init_loss = get_init_loss_full_batch(loader, model, evaluate, device)\u001b[39;00m\n\u001b[1;32m    303\u001b[0m     \u001b[38;5;66;03m# alternative: init_loss = get_init_loss_one_batch(loader, model, evaluate, device)\u001b[39;00m\n\u001b[1;32m    304\u001b[0m \u001b[38;5;28;01mif\u001b[39;00m online:\n",
      "File \u001b[0;32m~/.cache/pypoetry/virtualenvs/tms-f0_xxJhK-py3.11/lib/python3.11/site-packages/devinterp/utils.py:167\u001b[0m, in \u001b[0;36mget_init_loss_multi_batch\u001b[0;34m(dataloader, n_batches, model, evaluate, device)\u001b[0m\n\u001b[1;32m    165\u001b[0m     \u001b[38;5;28;01mfor\u001b[39;00m data \u001b[38;5;129;01min\u001b[39;00m islice(dataloader, n_batches):\n\u001b[1;32m    166\u001b[0m         data \u001b[38;5;241m=\u001b[39m prepare_input(data, device\u001b[38;5;241m=\u001b[39mdevice)\n\u001b[0;32m--> 167\u001b[0m         loss \u001b[38;5;241m+\u001b[39m\u001b[38;5;241m=\u001b[39m split_results(\u001b[43mevaluate\u001b[49m\u001b[43m(\u001b[49m\u001b[43mmodel\u001b[49m\u001b[43m,\u001b[49m\u001b[43m \u001b[49m\u001b[43mdata\u001b[49m\u001b[43m)\u001b[49m)[\u001b[38;5;241m0\u001b[39m]\u001b[38;5;241m.\u001b[39mdetach()\u001b[38;5;241m.\u001b[39mitem()\n\u001b[1;32m    169\u001b[0m \u001b[38;5;28;01mreturn\u001b[39;00m loss \u001b[38;5;241m/\u001b[39m n_batches\n",
      "\u001b[0;31mTypeError\u001b[0m: 'NoneType' object is not callable"
     ]
    }
   ],
   "source": [
    "llc_estimates = estimate_llc(results, version, snapshot_indices=[-1])"
   ]
  },
  {
   "cell_type": "code",
   "execution_count": 1,
   "metadata": {},
   "outputs": [],
   "source": [
    "def compare_dataframes_and_results(df_results_pairs, positions = [9, 18, 27, 36, -1], hyperparam_combos = [(300, 0.001)]):\n",
    "    warnings.simplefilter(action='ignore', category=UserWarning)  # Probably unwise\n",
    "\n",
    "    for batch_size, learning_rate in hyperparam_combos:\n",
    "        print(f\"Batch size: {batch_size}, Learning rate: {learning_rate}\\n\")\n",
    "        \n",
    "        for position in positions:\n",
    "            fig, axes = plt.subplots(1, len(df_results_pairs), figsize=(15*len(df_results_pairs), 10))\n",
    "            if len(df_results_pairs) == 1:\n",
    "                axes = [axes]\n",
    "\n",
    "            for pair_index, (llc_estimates, results) in enumerate(df_results_pairs):\n",
    "                llc_loss_by_sparsity = defaultdict(list)\n",
    "                steps = results[0]['parameters']['log_ivl']\n",
    "                \n",
    "                for index in range(len(results)):\n",
    "                    filtered_df = llc_estimates[llc_estimates['index'] == index]\n",
    "                    llc = filtered_df[\n",
    "                        (filtered_df['batch_size'] == batch_size) &\n",
    "                        (filtered_df['lr'] == learning_rate) &\n",
    "                        (filtered_df['snapshot_index'] == position) &\n",
    "                        (filtered_df['t_sgld'] > 150) &\n",
    "                        (filtered_df['llc_type'] != \"mean\")\n",
    "                    ][\"llc\"].mean()\n",
    "                    \n",
    "                    loss = results[index]['logs']['loss'].values[position]\n",
    "                    sparsity = results[index]['parameters']['sparsity']\n",
    "                    llc_loss_by_sparsity[sparsity].append((llc, loss))\n",
    "\n",
    "                for sparsity, llc_loss in llc_loss_by_sparsity.items():\n",
    "                    if sparsity == 0:\n",
    "                        continue\n",
    "                    llcs = [llc for llc, loss in llc_loss if not(np.isnan(llc))]\n",
    "                    losses = [loss for llc, loss in llc_loss if not(np.isnan(llc))]\n",
    "                    if all(np.isnan(llc) for llc in llcs):\n",
    "                        continue\n",
    "                    axes[pair_index].scatter(*zip(*llc_loss), label=f\"Sparsity: {round(sparsity,3)}\")\n",
    "                    if pair_index == 0:\n",
    "                        title = \"Initialized at random 4-gon\"\n",
    "                    if pair_index == 1:\n",
    "                        title = \"Initialized at optimal parameters for sparse inputs\"\n",
    "                    axes[pair_index].set_title(f\"Pair {title}, Position {position}\")\n",
    "                    axes[pair_index].set_xlabel(\"LLC\")\n",
    "                    axes[pair_index].set_ylabel(\"Loss\")\n",
    "                    axes[pair_index].legend()\n",
    "\n",
    "\n",
    "            plt.tight_layout()\n",
    "            plt.suptitle(f\"Loss and LLC After Epoch {steps[position]}\", fontsize=16)\n",
    "            plt.subplots_adjust(top=0.9)\n",
    "            plt.savefig(f'../results/loss_vs_llc_epoch_{steps[position]}')\n",
    "            plt.show()"
   ]
  },
  {
   "cell_type": "code",
   "execution_count": null,
   "metadata": {},
   "outputs": [],
   "source": []
  }
 ],
 "metadata": {
  "kernelspec": {
   "display_name": "tms-f0_xxJhK-py3.11",
   "language": "python",
   "name": "python3"
  },
  "language_info": {
   "codemirror_mode": {
    "name": "ipython",
    "version": 3
   },
   "file_extension": ".py",
   "mimetype": "text/x-python",
   "name": "python",
   "nbconvert_exporter": "python",
   "pygments_lexer": "ipython3",
   "version": "3.11.10"
  }
 },
 "nbformat": 4,
 "nbformat_minor": 2
}
