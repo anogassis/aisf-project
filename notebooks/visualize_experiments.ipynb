{
 "cells": [
  {
   "cell_type": "code",
   "execution_count": 7,
   "metadata": {},
   "outputs": [],
   "source": [
    "import warnings\n",
    "from collections import defaultdict\n",
    "import matplotlib.pyplot as plt\n",
    "import numpy as np\n",
    "import pandas as pd\n",
    "from tms.utils.utils import load_results\n",
    "from tms.training.experiments import run_experiments\n",
    "from tms.llc import estimate_llc, get_llc_data\n",
    "import os"
   ]
  },
  {
   "cell_type": "code",
   "execution_count": 3,
   "metadata": {},
   "outputs": [],
   "source": [
    "version = \"1.9.0\"\n",
    "data_path = \"../data\"\n",
    "results = load_results(data_path, version)\n",
    "\n",
    "llc_estimates = estimate_llc(results, version)"
   ]
  },
  {
   "cell_type": "code",
   "execution_count": 1,
   "metadata": {},
   "outputs": [],
   "source": [
    "def compare_dataframes_and_results(df_results_pairs, positions = [9, 18, 27, 36, -1], hyperparam_combos = [(300, 0.001)]):\n",
    "    warnings.simplefilter(action='ignore', category=UserWarning)  # Probably unwise\n",
    "\n",
    "    for batch_size, learning_rate in hyperparam_combos:\n",
    "        print(f\"Batch size: {batch_size}, Learning rate: {learning_rate}\\n\")\n",
    "        \n",
    "        for position in positions:\n",
    "            fig, axes = plt.subplots(1, len(df_results_pairs), figsize=(15*len(df_results_pairs), 10))\n",
    "            if len(df_results_pairs) == 1:\n",
    "                axes = [axes]\n",
    "\n",
    "            for pair_index, (llc_estimates, results) in enumerate(df_results_pairs):\n",
    "                llc_loss_by_sparsity = defaultdict(list)\n",
    "                steps = results[0]['parameters']['log_ivl']\n",
    "                \n",
    "                for index in range(len(results)):\n",
    "                    filtered_df = llc_estimates[llc_estimates['index'] == index]\n",
    "                    llc = filtered_df[\n",
    "                        (filtered_df['batch_size'] == batch_size) &\n",
    "                        (filtered_df['lr'] == learning_rate) &\n",
    "                        (filtered_df['snapshot_index'] == position) &\n",
    "                        (filtered_df['t_sgld'] > 150) &\n",
    "                        (filtered_df['llc_type'] != \"mean\")\n",
    "                    ][\"llc\"].mean()\n",
    "                    \n",
    "                    loss = results[index]['logs']['loss'].values[position]\n",
    "                    sparsity = results[index]['parameters']['sparsity']\n",
    "                    llc_loss_by_sparsity[sparsity].append((llc, loss))\n",
    "\n",
    "                for sparsity, llc_loss in llc_loss_by_sparsity.items():\n",
    "                    if sparsity == 0:\n",
    "                        continue\n",
    "                    llcs = [llc for llc, loss in llc_loss if not(np.isnan(llc))]\n",
    "                    losses = [loss for llc, loss in llc_loss if not(np.isnan(llc))]\n",
    "                    if all(np.isnan(llc) for llc in llcs):\n",
    "                        continue\n",
    "                    axes[pair_index].scatter(*zip(*llc_loss), label=f\"Sparsity: {round(sparsity,3)}\")\n",
    "                    if pair_index == 0:\n",
    "                        title = \"Initialized at random 4-gon\"\n",
    "                    if pair_index == 1:\n",
    "                        title = \"Initialized at optimal parameters for sparse inputs\"\n",
    "                    axes[pair_index].set_title(f\"Pair {title}, Position {position}\")\n",
    "                    axes[pair_index].set_xlabel(\"LLC\")\n",
    "                    axes[pair_index].set_ylabel(\"Loss\")\n",
    "                    axes[pair_index].legend()\n",
    "\n",
    "\n",
    "            plt.tight_layout()\n",
    "            plt.suptitle(f\"Loss and LLC After Epoch {steps[position]}\", fontsize=16)\n",
    "            plt.subplots_adjust(top=0.9)\n",
    "            plt.savefig(f'../results/loss_vs_llc_epoch_{steps[position]}')\n",
    "            plt.show()"
   ]
  },
  {
   "cell_type": "code",
   "execution_count": null,
   "metadata": {},
   "outputs": [],
   "source": []
  }
 ],
 "metadata": {
  "kernelspec": {
   "display_name": "tms-f0_xxJhK-py3.11",
   "language": "python",
   "name": "python3"
  },
  "language_info": {
   "codemirror_mode": {
    "name": "ipython",
    "version": 3
   },
   "file_extension": ".py",
   "mimetype": "text/x-python",
   "name": "python",
   "nbconvert_exporter": "python",
   "pygments_lexer": "ipython3",
   "version": "3.11.10"
  }
 },
 "nbformat": 4,
 "nbformat_minor": 2
}
