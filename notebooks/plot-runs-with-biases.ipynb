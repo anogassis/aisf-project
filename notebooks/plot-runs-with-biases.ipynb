{
  "nbformat": 4,
  "nbformat_minor": 0,
  "metadata": {
    "colab": {
      "provenance": [],
      "mount_file_id": "1yXVwiuxHlQ_xPMFtitIwPC2Ib8a5FJri",
      "authorship_tag": "ABX9TyNaJHqgaJHY1uJOuO26EZ8+",
      "include_colab_link": true
    },
    "kernelspec": {
      "name": "python3",
      "display_name": "Python 3"
    },
    "language_info": {
      "name": "python"
    }
  },
  "cells": [
    {
      "cell_type": "markdown",
      "metadata": {
        "id": "view-in-github",
        "colab_type": "text"
      },
      "source": [
        "<a href=\"https://colab.research.google.com/github/anogassis/aisf-project/blob/eda-notebooks/notebooks/plot-runs-with-biases.ipynb\" target=\"_parent\"><img src=\"https://colab.research.google.com/assets/colab-badge.svg\" alt=\"Open In Colab\"/></a>"
      ]
    },
    {
      "cell_type": "code",
      "source": [
        "%pip install devinterp scipy pyyaml pandas"
      ],
      "metadata": {
        "colab": {
          "base_uri": "https://localhost:8080/"
        },
        "id": "_ucUGY3D_KN_",
        "outputId": "1ef02f84-a4e4-4727-efa8-511efe674c31"
      },
      "execution_count": 11,
      "outputs": [
        {
          "output_type": "stream",
          "name": "stdout",
          "text": [
            "Collecting devinterp\n",
            "  Downloading devinterp-0.2.0-py3-none-any.whl (32 kB)\n",
            "Requirement already satisfied: scipy in /usr/local/lib/python3.10/dist-packages (1.11.4)\n",
            "Requirement already satisfied: pyyaml in /usr/local/lib/python3.10/dist-packages (6.0.1)\n",
            "Requirement already satisfied: pandas in /usr/local/lib/python3.10/dist-packages (2.0.3)\n",
            "Collecting einops>=0.6.1 (from devinterp)\n",
            "  Downloading einops-0.8.0-py3-none-any.whl (43 kB)\n",
            "\u001b[2K     \u001b[90m━━━━━━━━━━━━━━━━━━━━━━━━━━━━━━━━━━━━━━━━\u001b[0m \u001b[32m43.2/43.2 kB\u001b[0m \u001b[31m2.7 MB/s\u001b[0m eta \u001b[36m0:00:00\u001b[0m\n",
            "\u001b[?25hCollecting matplotlib>=3.8.0 (from devinterp)\n",
            "  Downloading matplotlib-3.9.0-cp310-cp310-manylinux_2_17_x86_64.manylinux2014_x86_64.whl (8.3 MB)\n",
            "\u001b[2K     \u001b[90m━━━━━━━━━━━━━━━━━━━━━━━━━━━━━━━━━━━━━━━━\u001b[0m \u001b[32m8.3/8.3 MB\u001b[0m \u001b[31m22.3 MB/s\u001b[0m eta \u001b[36m0:00:00\u001b[0m\n",
            "\u001b[?25hRequirement already satisfied: numpy>=1.23.5 in /usr/local/lib/python3.10/dist-packages (from devinterp) (1.25.2)\n",
            "Requirement already satisfied: torch>=2.0.1 in /usr/local/lib/python3.10/dist-packages (from devinterp) (2.3.0+cu121)\n",
            "Requirement already satisfied: tqdm>=4.65.0 in /usr/local/lib/python3.10/dist-packages (from devinterp) (4.66.4)\n",
            "Requirement already satisfied: python-dateutil>=2.8.2 in /usr/local/lib/python3.10/dist-packages (from pandas) (2.8.2)\n",
            "Requirement already satisfied: pytz>=2020.1 in /usr/local/lib/python3.10/dist-packages (from pandas) (2023.4)\n",
            "Requirement already satisfied: tzdata>=2022.1 in /usr/local/lib/python3.10/dist-packages (from pandas) (2024.1)\n",
            "Requirement already satisfied: contourpy>=1.0.1 in /usr/local/lib/python3.10/dist-packages (from matplotlib>=3.8.0->devinterp) (1.2.1)\n",
            "Requirement already satisfied: cycler>=0.10 in /usr/local/lib/python3.10/dist-packages (from matplotlib>=3.8.0->devinterp) (0.12.1)\n",
            "Requirement already satisfied: fonttools>=4.22.0 in /usr/local/lib/python3.10/dist-packages (from matplotlib>=3.8.0->devinterp) (4.51.0)\n",
            "Requirement already satisfied: kiwisolver>=1.3.1 in /usr/local/lib/python3.10/dist-packages (from matplotlib>=3.8.0->devinterp) (1.4.5)\n",
            "Requirement already satisfied: packaging>=20.0 in /usr/local/lib/python3.10/dist-packages (from matplotlib>=3.8.0->devinterp) (24.0)\n",
            "Requirement already satisfied: pillow>=8 in /usr/local/lib/python3.10/dist-packages (from matplotlib>=3.8.0->devinterp) (9.4.0)\n",
            "Requirement already satisfied: pyparsing>=2.3.1 in /usr/local/lib/python3.10/dist-packages (from matplotlib>=3.8.0->devinterp) (3.1.2)\n",
            "Requirement already satisfied: six>=1.5 in /usr/local/lib/python3.10/dist-packages (from python-dateutil>=2.8.2->pandas) (1.16.0)\n",
            "Requirement already satisfied: filelock in /usr/local/lib/python3.10/dist-packages (from torch>=2.0.1->devinterp) (3.14.0)\n",
            "Requirement already satisfied: typing-extensions>=4.8.0 in /usr/local/lib/python3.10/dist-packages (from torch>=2.0.1->devinterp) (4.11.0)\n",
            "Requirement already satisfied: sympy in /usr/local/lib/python3.10/dist-packages (from torch>=2.0.1->devinterp) (1.12)\n",
            "Requirement already satisfied: networkx in /usr/local/lib/python3.10/dist-packages (from torch>=2.0.1->devinterp) (3.3)\n",
            "Requirement already satisfied: jinja2 in /usr/local/lib/python3.10/dist-packages (from torch>=2.0.1->devinterp) (3.1.4)\n",
            "Requirement already satisfied: fsspec in /usr/local/lib/python3.10/dist-packages (from torch>=2.0.1->devinterp) (2023.6.0)\n",
            "Collecting nvidia-cuda-nvrtc-cu12==12.1.105 (from torch>=2.0.1->devinterp)\n",
            "  Using cached nvidia_cuda_nvrtc_cu12-12.1.105-py3-none-manylinux1_x86_64.whl (23.7 MB)\n",
            "Collecting nvidia-cuda-runtime-cu12==12.1.105 (from torch>=2.0.1->devinterp)\n",
            "  Using cached nvidia_cuda_runtime_cu12-12.1.105-py3-none-manylinux1_x86_64.whl (823 kB)\n",
            "Collecting nvidia-cuda-cupti-cu12==12.1.105 (from torch>=2.0.1->devinterp)\n",
            "  Using cached nvidia_cuda_cupti_cu12-12.1.105-py3-none-manylinux1_x86_64.whl (14.1 MB)\n",
            "Collecting nvidia-cudnn-cu12==8.9.2.26 (from torch>=2.0.1->devinterp)\n",
            "  Using cached nvidia_cudnn_cu12-8.9.2.26-py3-none-manylinux1_x86_64.whl (731.7 MB)\n",
            "Collecting nvidia-cublas-cu12==12.1.3.1 (from torch>=2.0.1->devinterp)\n",
            "  Using cached nvidia_cublas_cu12-12.1.3.1-py3-none-manylinux1_x86_64.whl (410.6 MB)\n",
            "Collecting nvidia-cufft-cu12==11.0.2.54 (from torch>=2.0.1->devinterp)\n",
            "  Using cached nvidia_cufft_cu12-11.0.2.54-py3-none-manylinux1_x86_64.whl (121.6 MB)\n",
            "Collecting nvidia-curand-cu12==10.3.2.106 (from torch>=2.0.1->devinterp)\n",
            "  Using cached nvidia_curand_cu12-10.3.2.106-py3-none-manylinux1_x86_64.whl (56.5 MB)\n",
            "Collecting nvidia-cusolver-cu12==11.4.5.107 (from torch>=2.0.1->devinterp)\n",
            "  Using cached nvidia_cusolver_cu12-11.4.5.107-py3-none-manylinux1_x86_64.whl (124.2 MB)\n",
            "Collecting nvidia-cusparse-cu12==12.1.0.106 (from torch>=2.0.1->devinterp)\n",
            "  Using cached nvidia_cusparse_cu12-12.1.0.106-py3-none-manylinux1_x86_64.whl (196.0 MB)\n",
            "Collecting nvidia-nccl-cu12==2.20.5 (from torch>=2.0.1->devinterp)\n",
            "  Using cached nvidia_nccl_cu12-2.20.5-py3-none-manylinux2014_x86_64.whl (176.2 MB)\n",
            "Collecting nvidia-nvtx-cu12==12.1.105 (from torch>=2.0.1->devinterp)\n",
            "  Using cached nvidia_nvtx_cu12-12.1.105-py3-none-manylinux1_x86_64.whl (99 kB)\n",
            "Requirement already satisfied: triton==2.3.0 in /usr/local/lib/python3.10/dist-packages (from torch>=2.0.1->devinterp) (2.3.0)\n",
            "Collecting nvidia-nvjitlink-cu12 (from nvidia-cusolver-cu12==11.4.5.107->torch>=2.0.1->devinterp)\n",
            "  Downloading nvidia_nvjitlink_cu12-12.5.40-py3-none-manylinux2014_x86_64.whl (21.3 MB)\n",
            "\u001b[2K     \u001b[90m━━━━━━━━━━━━━━━━━━━━━━━━━━━━━━━━━━━━━━━━\u001b[0m \u001b[32m21.3/21.3 MB\u001b[0m \u001b[31m46.6 MB/s\u001b[0m eta \u001b[36m0:00:00\u001b[0m\n",
            "\u001b[?25hRequirement already satisfied: MarkupSafe>=2.0 in /usr/local/lib/python3.10/dist-packages (from jinja2->torch>=2.0.1->devinterp) (2.1.5)\n",
            "Requirement already satisfied: mpmath>=0.19 in /usr/local/lib/python3.10/dist-packages (from sympy->torch>=2.0.1->devinterp) (1.3.0)\n",
            "Installing collected packages: nvidia-nvtx-cu12, nvidia-nvjitlink-cu12, nvidia-nccl-cu12, nvidia-curand-cu12, nvidia-cufft-cu12, nvidia-cuda-runtime-cu12, nvidia-cuda-nvrtc-cu12, nvidia-cuda-cupti-cu12, nvidia-cublas-cu12, einops, nvidia-cusparse-cu12, nvidia-cudnn-cu12, matplotlib, nvidia-cusolver-cu12, devinterp\n",
            "  Attempting uninstall: matplotlib\n",
            "    Found existing installation: matplotlib 3.7.1\n",
            "    Uninstalling matplotlib-3.7.1:\n",
            "      Successfully uninstalled matplotlib-3.7.1\n",
            "Successfully installed devinterp-0.2.0 einops-0.8.0 matplotlib-3.9.0 nvidia-cublas-cu12-12.1.3.1 nvidia-cuda-cupti-cu12-12.1.105 nvidia-cuda-nvrtc-cu12-12.1.105 nvidia-cuda-runtime-cu12-12.1.105 nvidia-cudnn-cu12-8.9.2.26 nvidia-cufft-cu12-11.0.2.54 nvidia-curand-cu12-10.3.2.106 nvidia-cusolver-cu12-11.4.5.107 nvidia-cusparse-cu12-12.1.0.106 nvidia-nccl-cu12-2.20.5 nvidia-nvjitlink-cu12-12.5.40 nvidia-nvtx-cu12-12.1.105\n"
          ]
        }
      ]
    },
    {
      "cell_type": "code",
      "execution_count": 12,
      "metadata": {
        "colab": {
          "base_uri": "https://localhost:8080/"
        },
        "id": "ZZzjgMSzN3ZI",
        "outputId": "671521e3-7cdd-49a7-f488-e9056993b982"
      },
      "outputs": [
        {
          "output_type": "stream",
          "name": "stdout",
          "text": [
            "Drive already mounted at /content/drive; to attempt to forcibly remount, call drive.mount(\"/content/drive\", force_remount=True).\n"
          ]
        }
      ],
      "source": [
        "import os\n",
        "import pickle\n",
        "import numpy as np\n",
        "import pandas as pd\n",
        "import torch\n",
        "import torch.nn as nn\n",
        "import torch.optim as optim\n",
        "\n",
        "from typing import Iterable, Optional, Callable, Dict, List, Any\n",
        "from matplotlib import pyplot as plt\n",
        "from scipy.spatial import ConvexHull\n",
        "from torch.utils.data import DataLoader\n",
        "from tqdm import tqdm\n",
        "import itertools\n",
        "from torch.utils.data import TensorDataset\n",
        "from torch.nn import functional as F\n",
        "from devinterp.slt import estimate_learning_coeff_with_summary\n",
        "from devinterp.optim.sgld import SGLD\n",
        "\n",
        "from google.colab import drive\n",
        "from google.colab import userdata\n",
        "drive.mount('/content/drive')"
      ]
    },
    {
      "cell_type": "code",
      "source": [
        "# Load the uploaded pickle file\n",
        "file_path = '/content/drive/MyDrive/Projects/AI Safety/AI Safety Fundamentals/runs/models/20240515_logs_lossall_runs.pkl'\n",
        "with open(file_path, 'rb') as file:\n",
        "    results = pickle.load(file)"
      ],
      "metadata": {
        "id": "0IloHNefN-H1"
      },
      "execution_count": 13,
      "outputs": []
    },
    {
      "cell_type": "code",
      "source": [
        "print(len(results))"
      ],
      "metadata": {
        "colab": {
          "base_uri": "https://localhost:8080/"
        },
        "id": "bS_8SDmiTbJ2",
        "outputId": "d1351874-ccac-4b53-e062-cb8518956bae"
      },
      "execution_count": 14,
      "outputs": [
        {
          "output_type": "stream",
          "name": "stdout",
          "text": [
            "160\n"
          ]
        }
      ]
    },
    {
      "cell_type": "code",
      "source": [
        "def generate_2d_kgon_vertices(k, rot=0., pad_to=None, force_length=0.9):\n",
        "    \"\"\"Set the weights of a 2D k-gon to be the vertices of a regular k-gon.\"\"\"\n",
        "    # Angles for the vertices\n",
        "    theta = np.linspace(0, 2*np.pi, k, endpoint=False) + rot\n",
        "\n",
        "    # Generate the vertices\n",
        "    x = np.cos(theta)\n",
        "    y = np.sin(theta)\n",
        "    result = np.vstack((x, y))\n",
        "\n",
        "    if pad_to is not None and k < pad_to:\n",
        "        num_pad = pad_to - k\n",
        "        result = np.hstack([result, np.zeros((2, num_pad))])\n",
        "\n",
        "    return (result * force_length)\n",
        "\n",
        "def generate_init_param(m, n, init_kgon, prior_std=1., no_bias=True, init_zerobias=True, seed=0, force_negb=False, noise=0.01):\n",
        "    np.random.seed(seed)\n",
        "\n",
        "    if init_kgon is None or m != 2:\n",
        "        init_W = np.random.normal(size=(m, n)) * prior_std\n",
        "    else:\n",
        "        assert init_kgon <= n\n",
        "        rand_angle = np.random.uniform(0, 2 * np.pi, size=(1,))\n",
        "        noise = np.random.normal(size=(m, n)) * noise\n",
        "        init_W = generate_2d_kgon_vertices(init_kgon, rot=rand_angle, pad_to=n) + noise\n",
        "\n",
        "    if no_bias:\n",
        "        param = {\"W\": init_W}\n",
        "    else:\n",
        "        init_b = np.random.normal(size=(n, 1)) * prior_std\n",
        "        if force_negb:\n",
        "            init_b = -np.abs(init_b)\n",
        "        if init_zerobias:\n",
        "            init_b = init_b * 0\n",
        "        param = {\n",
        "            \"W\": init_W,\n",
        "            \"b\": init_b\n",
        "        }\n",
        "    return param\n",
        "\n",
        "def plot_polygon(\n",
        "    W: torch.Tensor,\n",
        "    b=None,\n",
        "    ax=None,\n",
        "    ax_bias=None,\n",
        "    ax_wnorm=None,\n",
        "    hull_alpha=0.3,\n",
        "    dW=None,\n",
        "    dW_scale=0.3,\n",
        "    orderb=True,\n",
        "    color=\"b\",\n",
        "):\n",
        "    \"\"\"Credits: Edmund Lau\"\"\"\n",
        "    if ax is None:\n",
        "        if W.shape[0] == 2:\n",
        "            fig, ax = plt.subplots(1, 1)\n",
        "        elif W.shape[0] == 3:\n",
        "            fig = plt.figure()\n",
        "            ax = fig.add_subplot(111, projection=\"3d\")\n",
        "\n",
        "    if W.shape[0] == 2:  # 2D case\n",
        "        # Compute the norms of the columns\n",
        "        norms = np.linalg.norm(W, axis=0)\n",
        "\n",
        "        # Normalize a copy of the vectors for angle calculations\n",
        "        W_normalized = W / norms\n",
        "\n",
        "        # Compute angles from the x-axis for each vector\n",
        "        angles = np.arctan2(W_normalized[1, :], W_normalized[0, :])\n",
        "\n",
        "        # Sort the columns of W by angles\n",
        "        order = np.argsort(angles)\n",
        "        W_sorted = W[:, order]\n",
        "\n",
        "        # Plot the origin\n",
        "        ax.scatter(0, 0, color=\"red\")\n",
        "\n",
        "        # Plot the vectors\n",
        "        for i in range(W_sorted.shape[1]):\n",
        "            ax.quiver(\n",
        "                0,\n",
        "                0,\n",
        "                W_sorted[0, i],\n",
        "                W_sorted[1, i],\n",
        "                angles=\"xy\",\n",
        "                scale_units=\"xy\",\n",
        "                scale=1,\n",
        "                width=0.003,\n",
        "            )\n",
        "        if dW is not None:\n",
        "            dW = -dW_scale * dW / np.max(np.linalg.norm(dW, axis=0))\n",
        "            for col in range(W.shape[1]):\n",
        "                ax.quiver(\n",
        "                    W[0, col],\n",
        "                    W[1, col],\n",
        "                    dW[0, col],\n",
        "                    dW[1, col],\n",
        "                    angles=\"xy\",\n",
        "                    scale_units=\"xy\",\n",
        "                    scale=1,\n",
        "                    color=\"r\",\n",
        "                    width=0.005,\n",
        "                )\n",
        "\n",
        "        # Connect the vectors to form a polygon\n",
        "        polygon = np.column_stack((W_sorted, W_sorted[:, 0]))\n",
        "        ax.plot(polygon[0, :], polygon[1, :], alpha=0.5)\n",
        "\n",
        "        # Plot the convex hull\n",
        "        hull = ConvexHull(W.T)\n",
        "        vs = list(hull.vertices) + [hull.vertices[0]]\n",
        "        ax.plot(W[0, vs], W[1, vs], \"r--\", alpha=hull_alpha)\n",
        "\n",
        "        # Set the aspect ratio of the plot to equal to ensure that angles are displayed correctly\n",
        "        ax.set_aspect(\"equal\", adjustable=\"box\")\n",
        "\n",
        "    elif W.shape[0] == 3:  # 3D case\n",
        "        # Plot the origin\n",
        "        ax.scatter([0], [0], [0], color=\"red\")\n",
        "\n",
        "        # Plot the vectors\n",
        "        for i in range(W.shape[1]):\n",
        "            ax.plot([0, W[0, i]], [0, W[1, i]], [0, W[2, i]], color)\n",
        "\n",
        "        # Plot the convex hull\n",
        "        hull = ConvexHull(W.T)\n",
        "        for s in hull.simplices:\n",
        "            s = np.append(s, s[0])  # Here we cycle back to the first coordinate\n",
        "            ax.plot(W[0, s], W[1, s], W[2, s], \"r--\", alpha=hull_alpha)\n",
        "    else:\n",
        "        raise ValueError(\"W must have either 2 or 3 rows\")\n",
        "\n",
        "    if b is not None and ax_bias is not None and W.shape[0]==2:\n",
        "\n",
        "        b_plot = np.ravel(b)\n",
        "        if orderb:\n",
        "            b_plot = b_plot[order]\n",
        "        bar_colors = [\"r\" if val < 0 else \"g\" for val in b_plot]\n",
        "        yticks = np.array(range(1, len(b_plot) + 1))\n",
        "        ax_bias.barh(\n",
        "            yticks - 0.4,\n",
        "            np.abs(b_plot),\n",
        "            height=0.4,\n",
        "            color=bar_colors,\n",
        "            align=\"edge\",\n",
        "        )\n",
        "        ax_bias.set_yticks(yticks)\n",
        "        ax_bias.yaxis.tick_right()\n",
        "        ax_bias.tick_params(axis=\"y\", labelsize=\"x-small\")\n",
        "        ax_bias.tick_params(axis=\"x\", labelsize=\"x-small\")\n",
        "\n",
        "    if ax_wnorm is not None and W.shape[0]==2:\n",
        "        yticks = np.array(range(1, W.shape[1] + 1))\n",
        "        wnorms = np.linalg.norm(W, axis=0)\n",
        "        if orderb:\n",
        "            wnorms = wnorms[order]\n",
        "        ax_wnorm.barh(yticks, width=wnorms, height=0.4, color=\"black\", alpha=0.9, align=\"edge\")\n",
        "    return ax\n",
        "\n",
        "\n",
        "def plot_polygons(Ws, biases, axes=None,ax_biases=None):\n",
        "    if axes is None:\n",
        "        fig, axes = plt.subplots(1, len(Ws), figsize=(15, 4))\n",
        "    if ax_biases is None:\n",
        "        fig, ax_biases = plt.subplots(1, len(Ws), figsize=(15, 4))\n",
        "\n",
        "    for ax, W,ax_b,b in zip(axes, Ws, ax_biases,biases):\n",
        "        plot_polygon(W,b=b, ax=ax, ax_bias=ax_b,ax_wnorm=ax_b)\n",
        "\n",
        "\n",
        "def plot_losses_and_polygons(steps, losses, highlights, Ws, biases,xscale=\"log\", yscale=\"log\",batch_size=None, run=None, version = None):\n",
        "    fig = plt.figure(figsize=(15, 6))\n",
        "\n",
        "    gs = fig.add_gridspec(3, len(Ws))\n",
        "    ax_losses = fig.add_subplot(gs[2, :])\n",
        "    ax_polygons = []\n",
        "    ax_biases = []\n",
        "\n",
        "\n",
        "    max_x, min_x = max([np.max(W[0]) for W in Ws]), min([np.min(W[0]) for W in Ws])\n",
        "    max_y, min_y = max([np.max(W[1]) for W in Ws]), min([np.min(W[1]) for W in Ws])\n",
        "\n",
        "    for i in range(len(Ws)):\n",
        "        ax = fig.add_subplot(gs[0, i], adjustable='box')\n",
        "        ax.set_aspect('equal')\n",
        "        ax_polygons.append(ax)\n",
        "        ax.set_xlim(min_x, max_x)\n",
        "        ax.set_ylim(min_y, max_y+0.5)\n",
        "    for i in range(len(Ws)):\n",
        "        ax = fig.add_subplot(gs[1, i], adjustable='box')\n",
        "        ax_biases.append(ax)\n",
        "        ax.set_xlim(0, 1.5)\n",
        "        #ax.set_ylim(0, 1.5)\n",
        "\n",
        "\n",
        "\n",
        "    ax_losses.plot(steps, losses)\n",
        "    ax_losses.set_xlabel(\"Step\")\n",
        "    ax_losses.set_ylabel(\"Loss\")\n",
        "    ax_losses.set_xscale(xscale)\n",
        "    ax_losses.set_yscale(yscale)\n",
        "\n",
        "    for i, step in enumerate(highlights):\n",
        "        ax_losses.axvline(step, color=\"gray\", linestyle=\"--\")\n",
        "\n",
        "    plot_polygons(Ws,biases,ax_polygons, ax_biases=ax_biases)\n",
        "    version_str = f\"Version: {version}\" if version is not None else \"\"\n",
        "    batch_size_str = f\"Batch size: {batch_size}\" if batch_size is not None else \"\"\n",
        "    run_str = f\"Run: {run}\" if run is not None else \"\"\n",
        "    plt.suptitle(\"Loss and Weight snapshots, \" + batch_size_str + \" \" + run_str+ \" \" + version_str)\n",
        "    plt.tight_layout()"
      ],
      "metadata": {
        "id": "saihatLmPOV8"
      },
      "execution_count": 15,
      "outputs": []
    },
    {
      "cell_type": "code",
      "source": [
        "STEPS = results[0]['parameters']['log_ivl']"
      ],
      "metadata": {
        "id": "8TcIvNh-AxfM"
      },
      "execution_count": 31,
      "outputs": []
    },
    {
      "cell_type": "code",
      "source": [
        "logs = results[0]['logs']"
      ],
      "metadata": {
        "id": "CwvhtZsYBeuu"
      },
      "execution_count": 32,
      "outputs": []
    },
    {
      "cell_type": "code",
      "source": [
        "losses = [logs.loc[logs['step'] == s, 'loss'].values[0] for s in STEPS]"
      ],
      "metadata": {
        "id": "Jryq7Dzc_r6Z"
      },
      "execution_count": 33,
      "outputs": []
    },
    {
      "cell_type": "code",
      "source": [
        "NUM_EPOCHS = 20000\n",
        "PLOT_STEPS = [min(STEPS, key=lambda s: abs(s-i)) for i in [0, 200, 2000, 10000, NUM_EPOCHS - 1]]\n",
        "PLOT_INDICES = [STEPS.index(s) for s in PLOT_STEPS]"
      ],
      "metadata": {
        "id": "8uvXh2Ri_uk5"
      },
      "execution_count": 34,
      "outputs": []
    },
    {
      "cell_type": "code",
      "source": [
        "Ws = [results[0]['weights'][i]['embedding.weight'] for i in PLOT_INDICES]\n",
        "biases = [results[0]['weights'][i]['unembedding.bias'] for i in PLOT_INDICES]"
      ],
      "metadata": {
        "id": "kOLLXG2xBuoN"
      },
      "execution_count": 53,
      "outputs": []
    },
    {
      "cell_type": "code",
      "source": [
        "plot_losses_and_polygons(STEPS, losses, PLOT_STEPS, Ws, biases,xscale=\"log\", yscale=\"log\",batch_size=None, run=None, version = None)"
      ],
      "metadata": {
        "colab": {
          "base_uri": "https://localhost:8080/",
          "height": 610
        },
        "id": "bRHT810NB6aP",
        "outputId": "acf1ac7e-73c2-486b-c5e5-e2d06c95e020"
      },
      "execution_count": 54,
      "outputs": [
        {
          "output_type": "display_data",
          "data": {
            "text/plain": [
              "<Figure size 1500x600 with 11 Axes>"
            ],
            "image/png": "[encoded data removed]"
          },
          "metadata": {}
        }
      ]
    },
    {
      "cell_type": "code",
      "source": [
        "# ||Wi|| = black"
      ],
      "metadata": {
        "id": "_Bk6iC8LGQSe"
      },
      "execution_count": null,
      "outputs": []
    },
    {
      "cell_type": "markdown",
      "source": [
        "## Plot all experiments"
      ],
      "metadata": {
        "id": "Vy_WjNwQG58j"
      }
    },
    {
      "cell_type": "code",
      "source": [
        "def plot_experiments(\n",
        "    results: List[Dict[str, Any]],\n",
        "    show:bool = True,\n",
        "    save: bool = False,\n",
        "    file_name: str = None\n",
        "    ) -> None:\n",
        "    \"\"\"\n",
        "    Plots the results of the experiments using plot_losses_and_polygons.\n",
        "\n",
        "    Parameters\n",
        "    ----------\n",
        "    results : List[dict]\n",
        "        A list of dictionaries, each containing the run_id, parameters used, logs, and weights.\n",
        "    \"\"\"\n",
        "    for result in results:\n",
        "        run_id = result['run_id']\n",
        "        params = result['parameters']\n",
        "        logs = result['logs']\n",
        "        weights = result['weights']\n",
        "\n",
        "        # Extract steps and losses from logs\n",
        "        steps = list(logs['step'].values)\n",
        "        losses = list(logs['loss'].values)\n",
        "\n",
        "        # Generate highlight steps based on the number of epochs\n",
        "        num_epochs = params.get('num_epochs', 100)\n",
        "        num_observations = 50\n",
        "        plot_steps = [min(steps, key=lambda s: abs(s-i)) for i in [0, 200, 2000, 10000, num_epochs - 1]]\n",
        "        plot_indices = [steps.index(s) for s in plot_steps]\n",
        "\n",
        "        # Extract weights at the highlight steps\n",
        "        Ws = [weights[i]['embedding.weight'] for i in plot_indices]\n",
        "        biases = [weights[i]['unembedding.bias'] for i in plot_indices]\n",
        "\n",
        "        # Check for NaNs in W.T\n",
        "        if np.isnan(Ws[-1].T).any():\n",
        "            print(f\"Skipping run {run_id} due to NaNs in W.T.\")\n",
        "            continue\n",
        "\n",
        "        # Plot losses and polygons\n",
        "        plt.figure()\n",
        "        plot_losses_and_polygons(steps, losses, plot_steps, Ws, biases)\n",
        "\n",
        "        # Title the plot based on parameters\n",
        "        keys_in_title = ['run_id','m', 'n' ,'num_samples', 'batch_size', 'sparsity', 'lr']\n",
        "        title = ', '.join(f'{key}: {value}' for key, value in params.items() if key in keys_in_title)\n",
        "        plt.suptitle(f'Run ID: {run_id}\\n {title}')\n",
        "        plt.tight_layout()\n",
        "\n",
        "        if show:\n",
        "            plt.show()\n",
        "\n",
        "        if save:\n",
        "            plt.savefig(f'{file_name}_{run_id}.png')\n",
        "\n",
        "        plt.close()"
      ],
      "metadata": {
        "id": "BXm1RoemDo1h"
      },
      "execution_count": 55,
      "outputs": []
    },
    {
      "cell_type": "code",
      "source": [
        "#plot_experiments(results, show=True, save=False, file_name='experiments')"
      ],
      "metadata": {
        "id": "9azBks5dHXVB"
      },
      "execution_count": 57,
      "outputs": []
    },
    {
      "cell_type": "code",
      "source": [],
      "metadata": {
        "id": "gF39WuBhHp2U"
      },
      "execution_count": null,
      "outputs": []
    }
  ]
}